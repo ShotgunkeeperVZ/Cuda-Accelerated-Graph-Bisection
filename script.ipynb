{
 "cells": [
  {
   "cell_type": "code",
   "execution_count": 1,
   "metadata": {},
   "outputs": [
    {
     "data": {
      "text/plain": [
       "'PROOF of Algorithem'"
      ]
     },
     "metadata": {},
     "output_type": "display_data"
    },
    {
     "data": {
      "text/plain": [
       "array([[0., 1., 1., 1., 1., 1., 1., 0., 0., 0.],\n",
       "       [1., 0., 1., 1., 1., 1., 1., 1., 1., 1.],\n",
       "       [1., 1., 0., 1., 1., 1., 1., 1., 1., 1.],\n",
       "       [1., 1., 1., 0., 1., 0., 1., 0., 1., 0.],\n",
       "       [1., 1., 1., 1., 0., 1., 0., 0., 1., 1.],\n",
       "       [1., 1., 1., 0., 1., 0., 1., 1., 0., 1.],\n",
       "       [1., 1., 1., 1., 0., 1., 0., 0., 1., 1.],\n",
       "       [0., 1., 1., 0., 0., 1., 0., 0., 1., 0.],\n",
       "       [0., 1., 1., 1., 1., 0., 1., 1., 0., 1.],\n",
       "       [0., 1., 1., 0., 1., 1., 1., 0., 1., 0.]])"
      ]
     },
     "metadata": {},
     "output_type": "display_data"
    }
   ],
   "source": [
    "import numpy as np\n",
    "import pandas as pd\n",
    "\n",
    "\n",
    "\n",
    "#you dont need the permutation matrix in cuda just do element wise vector to row\n",
    "np.random.seed(0)\n",
    "#random Graph generator\n",
    "size = np.random.randint(low=10,high=12)\n",
    "Graph = np.zeros(shape=(size,size))\n",
    "display(\"PROOF of Algorithem\")\n",
    "Side = np.zeros(shape=(size))\n",
    "for i in range(size):\n",
    "    for j in range(i+1,size):\n",
    "        edge = int(round(np.random.rand()+0.2))\n",
    "        Graph[i][j] = edge\n",
    "        Graph[j][i] = edge\n",
    "        \n",
    "\n",
    "    if np.random.rand() < 0.5:\n",
    "        Side[i] = -1\n",
    "    else:\n",
    "        Side[i] = 1\n",
    "\n",
    "    Graph[i][i] = 0\n",
    "pd.DataFrame(Graph.astype(np.int32)).to_csv(r\"./Graph.txt\",sep=\",\",index=False,header=False)\n",
    "pd.DataFrame(Side.astype(np.int32)).to_csv(r\"./Side.txt\",sep=\",\",index=False,header=False)\n",
    "\n",
    "display(Graph)\n"
   ]
  },
  {
   "cell_type": "code",
   "execution_count": 2,
   "metadata": {},
   "outputs": [
    {
     "ename": "ModuleNotFoundError",
     "evalue": "No module named 'networkx'",
     "output_type": "error",
     "traceback": [
      "\u001b[0;31m---------------------------------------------------------------------------\u001b[0m",
      "\u001b[0;31mModuleNotFoundError\u001b[0m                       Traceback (most recent call last)",
      "\u001b[0;32m/tmp/ipykernel_34573/4210569327.py\u001b[0m in \u001b[0;36m<module>\u001b[0;34m\u001b[0m\n\u001b[1;32m      3\u001b[0m \u001b[0;34m\u001b[0m\u001b[0m\n\u001b[1;32m      4\u001b[0m \u001b[0;34m\u001b[0m\u001b[0m\n\u001b[0;32m----> 5\u001b[0;31m \u001b[0;32mimport\u001b[0m \u001b[0mnetworkx\u001b[0m \u001b[0;32mas\u001b[0m \u001b[0mnx\u001b[0m\u001b[0;34m\u001b[0m\u001b[0;34m\u001b[0m\u001b[0m\n\u001b[0m\u001b[1;32m      6\u001b[0m \u001b[0;32mimport\u001b[0m \u001b[0mmatplotlib\u001b[0m\u001b[0;34m.\u001b[0m\u001b[0mpyplot\u001b[0m \u001b[0;32mas\u001b[0m \u001b[0mplt\u001b[0m\u001b[0;34m\u001b[0m\u001b[0;34m\u001b[0m\u001b[0m\n\u001b[1;32m      7\u001b[0m \u001b[0;34m\u001b[0m\u001b[0m\n",
      "\u001b[0;31mModuleNotFoundError\u001b[0m: No module named 'networkx'"
     ]
    }
   ],
   "source": [
    "Graph_ = Graph.astype(np.int16).tolist()\n",
    "Side_ = Side.astype(np.int16).tolist()       \n",
    "\n",
    "\n",
    "import networkx as nx\n",
    "import matplotlib.pyplot as plt\n",
    "\n",
    "from matplotlib.pyplot import figure\n",
    "figure(figsize=(4,4), dpi=200)\n",
    "\n",
    "Gnx = nx.Graph()\n",
    "\n",
    "for i in range(size):\n",
    "    for j in range(i,size):\n",
    "        if(Graph_[i][j] == 1):\n",
    "            Gnx.add_edge(i,j)\n",
    "\n",
    "\n",
    "nx.draw(Gnx, with_labels=True, font_weight='bold')\n",
    "\n",
    "plt.show()\n",
    "print(Graph)\n",
    "print(Side)\n",
    "\n",
    "\n",
    "# row * abs(Side + IverseSide)/2 CUT SIZE\n",
    "for i in range(size):\n",
    "    # res = np.dot(Graph[i],(np.abs((Side + -Side[i])/2)))\n",
    "    res = np.dot(Graph[i],-Side*Side[i])\n",
    "    print(res)\n",
    "print(\"____________________\")\n",
    "# Balance of each side\n",
    "leftB, rightB = np.sum((np.abs((Side - 1)/2))),np.sum(np.abs((Side + 1)/2))\n",
    "print(leftB,rightB)\n",
    "\n",
    "print(\"____________________\")\n",
    "\n",
    "\n",
    "for i in range(size):\n",
    "    for j in range(size):\n",
    "        Graph[i][j] = Side[i] * Graph[i][j]\n",
    "\n",
    "for i in range(size):\n",
    "    for j in range(size):\n",
    "        Graph[j][i] = Side[i] * Graph[j][i]\n",
    "\n",
    "print(-np.sum(((Graph - 1)/2).astype(np.int8))/2)\n",
    "\n",
    "#a vector of blocked cels\n",
    "# we hav"
   ]
  }
 ],
 "metadata": {
  "kernelspec": {
   "display_name": "Python 3",
   "language": "python",
   "name": "python3"
  },
  "language_info": {
   "codemirror_mode": {
    "name": "ipython",
    "version": 3
   },
   "file_extension": ".py",
   "mimetype": "text/x-python",
   "name": "python",
   "nbconvert_exporter": "python",
   "pygments_lexer": "ipython3",
   "version": "3.7.3"
  },
  "orig_nbformat": 4,
  "vscode": {
   "interpreter": {
    "hash": "916dbcbb3f70747c44a77c7bcd40155683ae19c65e1c03b4aa3499c5328201f1"
   }
  }
 },
 "nbformat": 4,
 "nbformat_minor": 2
}
